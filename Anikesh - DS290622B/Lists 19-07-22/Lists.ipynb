{
 "cells": [
  {
   "cell_type": "code",
   "execution_count": null,
   "id": "c2211a8f",
   "metadata": {},
   "outputs": [],
   "source": [
    "Sub-Topics\n",
    "\n",
    "delete operations in lists\n",
    "sort,index,count in lists\n",
    "insert in lists"
   ]
  },
  {
   "cell_type": "code",
   "execution_count": 1,
   "id": "63198833",
   "metadata": {},
   "outputs": [],
   "source": [
    "li = []"
   ]
  },
  {
   "cell_type": "code",
   "execution_count": 2,
   "id": "441df71a",
   "metadata": {},
   "outputs": [],
   "source": [
    "li = [1,2,3]"
   ]
  },
  {
   "cell_type": "code",
   "execution_count": 4,
   "id": "d55300d4",
   "metadata": {},
   "outputs": [],
   "source": [
    "li = [1, \"Rakesh\",True, 2.45 , {1:\"hello\"},(1,2,3,4), [\"Rakesh\",True, 2.45]]"
   ]
  },
  {
   "cell_type": "code",
   "execution_count": 5,
   "id": "e8d00c5c",
   "metadata": {},
   "outputs": [
    {
     "data": {
      "text/plain": [
       "[1, 'Rakesh', True, 2.45, {1: 'hello'}, (1, 2, 3, 4), ['Rakesh', True, 2.45]]"
      ]
     },
     "execution_count": 5,
     "metadata": {},
     "output_type": "execute_result"
    }
   ],
   "source": [
    "li"
   ]
  },
  {
   "cell_type": "markdown",
   "id": "c84e6c5c",
   "metadata": {},
   "source": [
    "# 'Access and Change Element in List'"
   ]
  },
  {
   "cell_type": "code",
   "execution_count": 6,
   "id": "118d1805",
   "metadata": {},
   "outputs": [
    {
     "data": {
      "text/plain": [
       "1"
      ]
     },
     "execution_count": 6,
     "metadata": {},
     "output_type": "execute_result"
    }
   ],
   "source": [
    "li[0]"
   ]
  },
  {
   "cell_type": "code",
   "execution_count": 7,
   "id": "31a3f0cc",
   "metadata": {},
   "outputs": [
    {
     "data": {
      "text/plain": [
       "'Rakesh'"
      ]
     },
     "execution_count": 7,
     "metadata": {},
     "output_type": "execute_result"
    }
   ],
   "source": [
    "li[1]"
   ]
  },
  {
   "cell_type": "code",
   "execution_count": 15,
   "id": "9d73081f",
   "metadata": {},
   "outputs": [],
   "source": [
    "li = [1, \"Rakesh\",True, 2.45 , {1:\"hello\"},(1,2,3,4), [\"This Rakesh Inner list\",True, 3.45]]"
   ]
  },
  {
   "cell_type": "code",
   "execution_count": 16,
   "id": "acaf0c6d",
   "metadata": {},
   "outputs": [
    {
     "data": {
      "text/plain": [
       "(1, 2, 3, 4)"
      ]
     },
     "execution_count": 16,
     "metadata": {},
     "output_type": "execute_result"
    }
   ],
   "source": [
    "li[5]"
   ]
  },
  {
   "cell_type": "code",
   "execution_count": 17,
   "id": "044cc9b1",
   "metadata": {},
   "outputs": [
    {
     "data": {
      "text/plain": [
       "['This Rakesh Inner list', True, 3.45]"
      ]
     },
     "execution_count": 17,
     "metadata": {},
     "output_type": "execute_result"
    }
   ],
   "source": [
    "li[6]"
   ]
  },
  {
   "cell_type": "code",
   "execution_count": 18,
   "id": "d775be83",
   "metadata": {},
   "outputs": [
    {
     "data": {
      "text/plain": [
       "'This Rakesh Inner list'"
      ]
     },
     "execution_count": 18,
     "metadata": {},
     "output_type": "execute_result"
    }
   ],
   "source": [
    "li[6][0]"
   ]
  },
  {
   "cell_type": "code",
   "execution_count": 19,
   "id": "ac95c7fa",
   "metadata": {},
   "outputs": [
    {
     "data": {
      "text/plain": [
       "3.45"
      ]
     },
     "execution_count": 19,
     "metadata": {},
     "output_type": "execute_result"
    }
   ],
   "source": [
    "li[6][2]"
   ]
  },
  {
   "cell_type": "code",
   "execution_count": 20,
   "id": "fa2c6d88",
   "metadata": {},
   "outputs": [
    {
     "ename": "IndexError",
     "evalue": "list index out of range",
     "output_type": "error",
     "traceback": [
      "\u001b[1;31m---------------------------------------------------------------------------\u001b[0m",
      "\u001b[1;31mIndexError\u001b[0m                                Traceback (most recent call last)",
      "Input \u001b[1;32mIn [20]\u001b[0m, in \u001b[0;36m<cell line: 1>\u001b[1;34m()\u001b[0m\n\u001b[1;32m----> 1\u001b[0m \u001b[43mli\u001b[49m\u001b[43m[\u001b[49m\u001b[38;5;241;43m6\u001b[39;49m\u001b[43m]\u001b[49m\u001b[43m[\u001b[49m\u001b[38;5;241;43m3\u001b[39;49m\u001b[43m]\u001b[49m\n",
      "\u001b[1;31mIndexError\u001b[0m: list index out of range"
     ]
    }
   ],
   "source": [
    "li[6][3]"
   ]
  },
  {
   "cell_type": "markdown",
   "id": "765ca644",
   "metadata": {},
   "source": [
    "# `Slicing of A List`"
   ]
  },
  {
   "cell_type": "code",
   "execution_count": 21,
   "id": "b9e6af73",
   "metadata": {},
   "outputs": [],
   "source": [
    "li = [1, \"Rakesh\",True, 2.45 , {1:\"hello\"},(1,2,3,4), [\"This Rakesh Inner list\",True, 3.45]]"
   ]
  },
  {
   "cell_type": "code",
   "execution_count": 22,
   "id": "42d195fc",
   "metadata": {},
   "outputs": [
    {
     "data": {
      "text/plain": [
       "['Rakesh', True, 2.45, {1: 'hello'}]"
      ]
     },
     "execution_count": 22,
     "metadata": {},
     "output_type": "execute_result"
    }
   ],
   "source": [
    "li[1:5]"
   ]
  },
  {
   "cell_type": "code",
   "execution_count": 23,
   "id": "c816e451",
   "metadata": {},
   "outputs": [
    {
     "data": {
      "text/plain": [
       "['Rakesh', True, 2.45, {1: 'hello'}, (1, 2, 3, 4)]"
      ]
     },
     "execution_count": 23,
     "metadata": {},
     "output_type": "execute_result"
    }
   ],
   "source": [
    "li[1:6]"
   ]
  },
  {
   "cell_type": "code",
   "execution_count": 24,
   "id": "a71d33da",
   "metadata": {},
   "outputs": [
    {
     "data": {
      "text/plain": [
       "['Rakesh',\n",
       " True,\n",
       " 2.45,\n",
       " {1: 'hello'},\n",
       " (1, 2, 3, 4),\n",
       " ['This Rakesh Inner list', True, 3.45]]"
      ]
     },
     "execution_count": 24,
     "metadata": {},
     "output_type": "execute_result"
    }
   ],
   "source": [
    "li[1:]"
   ]
  },
  {
   "cell_type": "code",
   "execution_count": 25,
   "id": "9be7ed20",
   "metadata": {},
   "outputs": [
    {
     "data": {
      "text/plain": [
       "[1,\n",
       " 'Rakesh',\n",
       " True,\n",
       " 2.45,\n",
       " {1: 'hello'},\n",
       " (1, 2, 3, 4),\n",
       " ['This Rakesh Inner list', True, 3.45]]"
      ]
     },
     "execution_count": 25,
     "metadata": {},
     "output_type": "execute_result"
    }
   ],
   "source": [
    "li[:]"
   ]
  },
  {
   "cell_type": "code",
   "execution_count": 26,
   "id": "6505f8fd",
   "metadata": {},
   "outputs": [
    {
     "data": {
      "text/plain": [
       "[1,\n",
       " 'Rakesh',\n",
       " True,\n",
       " 2.45,\n",
       " {1: 'hello'},\n",
       " (1, 2, 3, 4),\n",
       " ['This Rakesh Inner list', True, 3.45]]"
      ]
     },
     "execution_count": 26,
     "metadata": {},
     "output_type": "execute_result"
    }
   ],
   "source": [
    "li[:10]"
   ]
  },
  {
   "cell_type": "markdown",
   "id": "697567b4",
   "metadata": {},
   "source": [
    "# `Insert and Append Elements in List`"
   ]
  },
  {
   "cell_type": "markdown",
   "id": "f08439ed",
   "metadata": {},
   "source": [
    "### `Append`"
   ]
  },
  {
   "cell_type": "markdown",
   "id": "1f0c7d2d",
   "metadata": {},
   "source": [
    "### append()\tAdds an element at the end of the list"
   ]
  },
  {
   "cell_type": "markdown",
   "id": "8ee9641b",
   "metadata": {},
   "source": [
    "### Definition and Usage\n",
    "The append() method appends an element to the end of the list.\n",
    "\n",
    "Syntax\n",
    "\n",
    "    list.append(elmnt)\n",
    "\n",
    "elmnt\tRequired. An element of any type (string, number, object etc.)"
   ]
  },
  {
   "cell_type": "code",
   "execution_count": 121,
   "id": "3b45a457",
   "metadata": {},
   "outputs": [],
   "source": [
    "li = [1,2,3,4,5,6,7]"
   ]
  },
  {
   "cell_type": "code",
   "execution_count": 28,
   "id": "4fc35e88",
   "metadata": {},
   "outputs": [],
   "source": [
    "li.append(\"Suraj\")"
   ]
  },
  {
   "cell_type": "code",
   "execution_count": 29,
   "id": "69693f81",
   "metadata": {},
   "outputs": [
    {
     "data": {
      "text/plain": [
       "[1, 2, 3, 4, 5, 6, 7, 'Suraj']"
      ]
     },
     "execution_count": 29,
     "metadata": {},
     "output_type": "execute_result"
    }
   ],
   "source": [
    "li"
   ]
  },
  {
   "cell_type": "code",
   "execution_count": 31,
   "id": "7f3324b6",
   "metadata": {},
   "outputs": [
    {
     "ename": "TypeError",
     "evalue": "list.append() takes exactly one argument (3 given)",
     "output_type": "error",
     "traceback": [
      "\u001b[1;31m---------------------------------------------------------------------------\u001b[0m",
      "\u001b[1;31mTypeError\u001b[0m                                 Traceback (most recent call last)",
      "Input \u001b[1;32mIn [31]\u001b[0m, in \u001b[0;36m<cell line: 1>\u001b[1;34m()\u001b[0m\n\u001b[1;32m----> 1\u001b[0m \u001b[43mli\u001b[49m\u001b[38;5;241;43m.\u001b[39;49m\u001b[43mappend\u001b[49m\u001b[43m(\u001b[49m\u001b[38;5;241;43m100\u001b[39;49m\u001b[43m,\u001b[49m\u001b[38;5;241;43m2000\u001b[39;49m\u001b[43m,\u001b[49m\u001b[38;5;124;43m\"\u001b[39;49m\u001b[38;5;124;43mAshish\u001b[39;49m\u001b[38;5;124;43m\"\u001b[39;49m\u001b[43m)\u001b[49m\n",
      "\u001b[1;31mTypeError\u001b[0m: list.append() takes exactly one argument (3 given)"
     ]
    }
   ],
   "source": [
    "li.append(100,2000,\"Ashish\")"
   ]
  },
  {
   "cell_type": "code",
   "execution_count": 32,
   "id": "185d1371",
   "metadata": {},
   "outputs": [],
   "source": [
    "li.append([100,2000,\"Ashish\"])"
   ]
  },
  {
   "cell_type": "code",
   "execution_count": 33,
   "id": "3a025527",
   "metadata": {},
   "outputs": [
    {
     "data": {
      "text/plain": [
       "[1, 2, 3, 4, 5, 6, 7, 'Suraj', [100, 2000, 'Ashish']]"
      ]
     },
     "execution_count": 33,
     "metadata": {},
     "output_type": "execute_result"
    }
   ],
   "source": [
    "li"
   ]
  },
  {
   "cell_type": "code",
   "execution_count": 34,
   "id": "758f4ce3",
   "metadata": {},
   "outputs": [],
   "source": [
    "li.append({1:\"Yes\"})"
   ]
  },
  {
   "cell_type": "code",
   "execution_count": 35,
   "id": "ab2f55a8",
   "metadata": {},
   "outputs": [
    {
     "data": {
      "text/plain": [
       "[1, 2, 3, 4, 5, 6, 7, 'Suraj', [100, 2000, 'Ashish'], {1: 'Yes'}]"
      ]
     },
     "execution_count": 35,
     "metadata": {},
     "output_type": "execute_result"
    }
   ],
   "source": [
    "li"
   ]
  },
  {
   "cell_type": "markdown",
   "id": "7a73861a",
   "metadata": {},
   "source": [
    "# .insert() #method"
   ]
  },
  {
   "cell_type": "markdown",
   "id": "c8c74996",
   "metadata": {},
   "source": [
    "### insert()\tAdds an element at the specified position"
   ]
  },
  {
   "cell_type": "markdown",
   "id": "7e24775c",
   "metadata": {},
   "source": [
    "### Definition and Usage\n",
    "The insert() method inserts the specified value at the specified position.\n",
    "\n",
    "Syntax\n",
    "    \n",
    "    list.insert(pos, elmnt)\n",
    "\n",
    "elmnt\tRequired. An element of any type (string, number, object etc.)"
   ]
  },
  {
   "cell_type": "code",
   "execution_count": 36,
   "id": "29d7c5bc",
   "metadata": {},
   "outputs": [],
   "source": [
    "li1 = li"
   ]
  },
  {
   "cell_type": "code",
   "execution_count": 37,
   "id": "6c096158",
   "metadata": {},
   "outputs": [
    {
     "data": {
      "text/plain": [
       "[1, 2, 3, 4, 5, 6, 7, 'Suraj', [100, 2000, 'Ashish'], {1: 'Yes'}]"
      ]
     },
     "execution_count": 37,
     "metadata": {},
     "output_type": "execute_result"
    }
   ],
   "source": [
    "li1"
   ]
  },
  {
   "cell_type": "code",
   "execution_count": 38,
   "id": "dcec1855",
   "metadata": {},
   "outputs": [],
   "source": [
    "li1.insert(0, \"Insert\")"
   ]
  },
  {
   "cell_type": "code",
   "execution_count": 39,
   "id": "46f29a60",
   "metadata": {},
   "outputs": [
    {
     "data": {
      "text/plain": [
       "['Insert', 1, 2, 3, 4, 5, 6, 7, 'Suraj', [100, 2000, 'Ashish'], {1: 'Yes'}]"
      ]
     },
     "execution_count": 39,
     "metadata": {},
     "output_type": "execute_result"
    }
   ],
   "source": [
    "li1"
   ]
  },
  {
   "cell_type": "code",
   "execution_count": 40,
   "id": "12d58fea",
   "metadata": {},
   "outputs": [],
   "source": [
    "li1.insert(3, \"Deepak\")"
   ]
  },
  {
   "cell_type": "code",
   "execution_count": 41,
   "id": "6c8f374f",
   "metadata": {},
   "outputs": [
    {
     "data": {
      "text/plain": [
       "['Insert',\n",
       " 1,\n",
       " 2,\n",
       " 'Deepak',\n",
       " 3,\n",
       " 4,\n",
       " 5,\n",
       " 6,\n",
       " 7,\n",
       " 'Suraj',\n",
       " [100, 2000, 'Ashish'],\n",
       " {1: 'Yes'}]"
      ]
     },
     "execution_count": 41,
     "metadata": {},
     "output_type": "execute_result"
    }
   ],
   "source": [
    "li1"
   ]
  },
  {
   "cell_type": "markdown",
   "id": "7717346c",
   "metadata": {},
   "source": [
    "### .extend() #method"
   ]
  },
  {
   "cell_type": "markdown",
   "id": "c98c25cf",
   "metadata": {},
   "source": [
    "### extend()\tAdd the elements of a list (or any iterable), to the end of the current list"
   ]
  },
  {
   "cell_type": "markdown",
   "id": "fd3d1bd9",
   "metadata": {},
   "source": [
    "### Definition and Usage\n",
    "The extend() method adds the specified list elements (or any iterable) to the end of the current list.\n",
    "\n",
    "Syntax\n",
    "\n",
    "    list.extend(iterable)\n",
    "    \n",
    "iterable\tRequired. Any iterable (list, set, tuple, etc.)"
   ]
  },
  {
   "cell_type": "code",
   "execution_count": 43,
   "id": "baee55aa",
   "metadata": {},
   "outputs": [],
   "source": [
    "li1.extend([10,11,23])"
   ]
  },
  {
   "cell_type": "code",
   "execution_count": 44,
   "id": "7fdb84f3",
   "metadata": {},
   "outputs": [
    {
     "data": {
      "text/plain": [
       "['Insert',\n",
       " 1,\n",
       " 2,\n",
       " 'Deepak',\n",
       " 3,\n",
       " 4,\n",
       " 5,\n",
       " 6,\n",
       " 7,\n",
       " 'Suraj',\n",
       " [100, 2000, 'Ashish'],\n",
       " {1: 'Yes'},\n",
       " 10,\n",
       " 11,\n",
       " 23]"
      ]
     },
     "execution_count": 44,
     "metadata": {},
     "output_type": "execute_result"
    }
   ],
   "source": [
    "li1"
   ]
  },
  {
   "cell_type": "markdown",
   "id": "3faaf9a7",
   "metadata": {},
   "source": [
    "### .remove() #method"
   ]
  },
  {
   "cell_type": "markdown",
   "id": "06da83ea",
   "metadata": {},
   "source": [
    "### remove()\tRemoves the item with the specified value"
   ]
  },
  {
   "cell_type": "markdown",
   "id": "70d7bcce",
   "metadata": {},
   "source": [
    "### Definition and Usage\n",
    "The remove() method removes the first occurrence of the element with the specified value.\n",
    "\n",
    "Syntax\n",
    "\n",
    "    list.remove(elmnt)\n",
    "    \n",
    "elmnt\tRequired. Any type (string, number, list etc.) The element you want to remove"
   ]
  },
  {
   "cell_type": "code",
   "execution_count": 45,
   "id": "460b6751",
   "metadata": {},
   "outputs": [],
   "source": [
    "li = [8,9,10,1,3,4,5]"
   ]
  },
  {
   "cell_type": "code",
   "execution_count": 46,
   "id": "9c46ab8a",
   "metadata": {},
   "outputs": [],
   "source": [
    "li.remove(10)"
   ]
  },
  {
   "cell_type": "code",
   "execution_count": 47,
   "id": "fdc1cbb0",
   "metadata": {},
   "outputs": [
    {
     "data": {
      "text/plain": [
       "[8, 9, 1, 3, 4, 5]"
      ]
     },
     "execution_count": 47,
     "metadata": {},
     "output_type": "execute_result"
    }
   ],
   "source": [
    "li"
   ]
  },
  {
   "cell_type": "code",
   "execution_count": 48,
   "id": "4157950b",
   "metadata": {},
   "outputs": [],
   "source": [
    "li.remove(8)"
   ]
  },
  {
   "cell_type": "code",
   "execution_count": 49,
   "id": "38fbe998",
   "metadata": {},
   "outputs": [
    {
     "data": {
      "text/plain": [
       "[9, 1, 3, 4, 5]"
      ]
     },
     "execution_count": 49,
     "metadata": {},
     "output_type": "execute_result"
    }
   ],
   "source": [
    "li"
   ]
  },
  {
   "cell_type": "markdown",
   "id": "05a05e36",
   "metadata": {},
   "source": [
    "### .pop #method"
   ]
  },
  {
   "cell_type": "markdown",
   "id": "2707f522",
   "metadata": {},
   "source": [
    "### pop()\tRemoves the element at the specified position"
   ]
  },
  {
   "cell_type": "markdown",
   "id": "caaddb47",
   "metadata": {},
   "source": [
    "### Definition and Usage\n",
    "The pop() method removes the element at the specified position.\n",
    "\n",
    "Syntax\n",
    "\n",
    "    list.pop(pos)\n",
    "    \n",
    "pos\tOptional. A number specifying the position of the element you want to remove, default value is -1, which returns the last item"
   ]
  },
  {
   "cell_type": "markdown",
   "id": "4386682c",
   "metadata": {},
   "source": [
    "#### `Note: The pop() method returns removed value.`"
   ]
  },
  {
   "cell_type": "code",
   "execution_count": 50,
   "id": "bd7bb9d7",
   "metadata": {},
   "outputs": [],
   "source": [
    "li = [8,9,10,1,3,4,5]"
   ]
  },
  {
   "cell_type": "code",
   "execution_count": 52,
   "id": "c0a3eceb",
   "metadata": {},
   "outputs": [
    {
     "data": {
      "text/plain": [
       "4"
      ]
     },
     "execution_count": 52,
     "metadata": {},
     "output_type": "execute_result"
    }
   ],
   "source": [
    "li.pop()"
   ]
  },
  {
   "cell_type": "code",
   "execution_count": 53,
   "id": "9dfe3656",
   "metadata": {},
   "outputs": [
    {
     "data": {
      "text/plain": [
       "[8, 9, 10, 1, 3]"
      ]
     },
     "execution_count": 53,
     "metadata": {},
     "output_type": "execute_result"
    }
   ],
   "source": [
    "li"
   ]
  },
  {
   "cell_type": "code",
   "execution_count": 54,
   "id": "3ba441df",
   "metadata": {},
   "outputs": [
    {
     "data": {
      "text/plain": [
       "8"
      ]
     },
     "execution_count": 54,
     "metadata": {},
     "output_type": "execute_result"
    }
   ],
   "source": [
    "li.pop(0)"
   ]
  },
  {
   "cell_type": "code",
   "execution_count": 55,
   "id": "2ff7f66a",
   "metadata": {},
   "outputs": [],
   "source": [
    "li = [8,9,10,1,3,4,5]"
   ]
  },
  {
   "cell_type": "code",
   "execution_count": 59,
   "id": "95463148",
   "metadata": {},
   "outputs": [
    {
     "ename": "TypeError",
     "evalue": "list.remove() takes exactly one argument (2 given)",
     "output_type": "error",
     "traceback": [
      "\u001b[1;31m---------------------------------------------------------------------------\u001b[0m",
      "\u001b[1;31mTypeError\u001b[0m                                 Traceback (most recent call last)",
      "Input \u001b[1;32mIn [59]\u001b[0m, in \u001b[0;36m<cell line: 1>\u001b[1;34m()\u001b[0m\n\u001b[1;32m----> 1\u001b[0m \u001b[43mli\u001b[49m\u001b[38;5;241;43m.\u001b[39;49m\u001b[43mremove\u001b[49m\u001b[43m(\u001b[49m\u001b[38;5;241;43m9\u001b[39;49m\u001b[43m,\u001b[49m\u001b[38;5;241;43m10\u001b[39;49m\u001b[43m)\u001b[49m\n",
      "\u001b[1;31mTypeError\u001b[0m: list.remove() takes exactly one argument (2 given)"
     ]
    }
   ],
   "source": [
    "li.remove(9,10)"
   ]
  },
  {
   "cell_type": "code",
   "execution_count": 60,
   "id": "8ceb1ba0",
   "metadata": {},
   "outputs": [],
   "source": [
    "del li[1:3]"
   ]
  },
  {
   "cell_type": "code",
   "execution_count": 61,
   "id": "aeca47ef",
   "metadata": {},
   "outputs": [
    {
     "data": {
      "text/plain": [
       "[8, 1, 3, 4, 5]"
      ]
     },
     "execution_count": 61,
     "metadata": {},
     "output_type": "execute_result"
    }
   ],
   "source": [
    "li"
   ]
  },
  {
   "cell_type": "code",
   "execution_count": 63,
   "id": "de25fc18",
   "metadata": {},
   "outputs": [],
   "source": [
    "del li[1]"
   ]
  },
  {
   "cell_type": "code",
   "execution_count": 64,
   "id": "6e1e89ad",
   "metadata": {},
   "outputs": [
    {
     "data": {
      "text/plain": [
       "[8, 4, 5]"
      ]
     },
     "execution_count": 64,
     "metadata": {},
     "output_type": "execute_result"
    }
   ],
   "source": [
    "li"
   ]
  },
  {
   "cell_type": "code",
   "execution_count": 65,
   "id": "44dd5cae",
   "metadata": {},
   "outputs": [],
   "source": [
    "li = [8,9,10,1,3,4,5]"
   ]
  },
  {
   "cell_type": "code",
   "execution_count": 67,
   "id": "bda4ec34",
   "metadata": {},
   "outputs": [],
   "source": [
    "del li[2]"
   ]
  },
  {
   "cell_type": "code",
   "execution_count": 68,
   "id": "f041cf66",
   "metadata": {},
   "outputs": [
    {
     "data": {
      "text/plain": [
       "[8, 9, 1, 3, 4, 5]"
      ]
     },
     "execution_count": 68,
     "metadata": {},
     "output_type": "execute_result"
    }
   ],
   "source": [
    "li"
   ]
  },
  {
   "cell_type": "code",
   "execution_count": 69,
   "id": "951a9718",
   "metadata": {},
   "outputs": [],
   "source": [
    "li = [8,9,10,1,3,4,5]"
   ]
  },
  {
   "cell_type": "code",
   "execution_count": 70,
   "id": "9f34273a",
   "metadata": {},
   "outputs": [
    {
     "data": {
      "text/plain": [
       "5"
      ]
     },
     "execution_count": 70,
     "metadata": {},
     "output_type": "execute_result"
    }
   ],
   "source": [
    "s = li.pop()\n",
    "print(s)"
   ]
  },
  {
   "cell_type": "code",
   "execution_count": 71,
   "id": "e0c2fed9",
   "metadata": {},
   "outputs": [
    {
     "data": {
      "text/plain": [
       "[8, 9, 10, 1, 3, 4]"
      ]
     },
     "execution_count": 71,
     "metadata": {},
     "output_type": "execute_result"
    }
   ],
   "source": [
    "li"
   ]
  },
  {
   "cell_type": "code",
   "execution_count": 72,
   "id": "d84501a6",
   "metadata": {},
   "outputs": [
    {
     "name": "stdout",
     "output_type": "stream",
     "text": [
      "4\n"
     ]
    }
   ],
   "source": [
    "s = li.pop()\n",
    "print(s)"
   ]
  },
  {
   "cell_type": "code",
   "execution_count": 73,
   "id": "b1fef11e",
   "metadata": {},
   "outputs": [],
   "source": [
    "li =  [8,9,10,1,3,4,5]"
   ]
  },
  {
   "cell_type": "code",
   "execution_count": 74,
   "id": "4082dcad",
   "metadata": {},
   "outputs": [],
   "source": [
    "del li"
   ]
  },
  {
   "cell_type": "code",
   "execution_count": 75,
   "id": "986bbf8b",
   "metadata": {},
   "outputs": [
    {
     "ename": "NameError",
     "evalue": "name 'li' is not defined",
     "output_type": "error",
     "traceback": [
      "\u001b[1;31m---------------------------------------------------------------------------\u001b[0m",
      "\u001b[1;31mNameError\u001b[0m                                 Traceback (most recent call last)",
      "Input \u001b[1;32mIn [75]\u001b[0m, in \u001b[0;36m<cell line: 1>\u001b[1;34m()\u001b[0m\n\u001b[1;32m----> 1\u001b[0m \u001b[43mli\u001b[49m\n",
      "\u001b[1;31mNameError\u001b[0m: name 'li' is not defined"
     ]
    }
   ],
   "source": [
    "li"
   ]
  },
  {
   "cell_type": "code",
   "execution_count": null,
   "id": "951b0967",
   "metadata": {},
   "outputs": [],
   "source": [
    "delete operations in lists\n",
    "sort,index,count in lists\n",
    "insert in lists"
   ]
  },
  {
   "cell_type": "code",
   "execution_count": 77,
   "id": "9a0999ea",
   "metadata": {},
   "outputs": [
    {
     "name": "stdout",
     "output_type": "stream",
     "text": [
      "None\n",
      "[]\n"
     ]
    }
   ],
   "source": [
    "fruits = [\"apple\", \"banana\", \"cherry\"]\n",
    "\n",
    "s = fruits.clear()\n",
    "print(s)\n",
    "print(fruits)"
   ]
  },
  {
   "cell_type": "markdown",
   "id": "c180ffe4",
   "metadata": {},
   "source": [
    "### count()\tReturns the number of elements with the specified value"
   ]
  },
  {
   "cell_type": "code",
   "execution_count": 78,
   "id": "b3336b57",
   "metadata": {},
   "outputs": [],
   "source": [
    "fruits = ['apple', 'banana', 'cherry', 'cherry', 'cherry', 'cherry', 'cherry', 'cherry', 'cherry']\n",
    "\n",
    "x = fruits.count(\"cherry\")"
   ]
  },
  {
   "cell_type": "code",
   "execution_count": 79,
   "id": "81043be1",
   "metadata": {
    "scrolled": true
   },
   "outputs": [
    {
     "data": {
      "text/plain": [
       "7"
      ]
     },
     "execution_count": 79,
     "metadata": {},
     "output_type": "execute_result"
    }
   ],
   "source": [
    "x"
   ]
  },
  {
   "cell_type": "code",
   "execution_count": 80,
   "id": "e90760aa",
   "metadata": {},
   "outputs": [],
   "source": [
    "li = [1,2,3,4,2,3,4,2,3,4,2,3,4,2,3,4,2,3,4,2,3,4,2,3,4,2,3,4]"
   ]
  },
  {
   "cell_type": "code",
   "execution_count": 81,
   "id": "f268ec24",
   "metadata": {},
   "outputs": [],
   "source": [
    "count4 = li.count(4)"
   ]
  },
  {
   "cell_type": "code",
   "execution_count": 82,
   "id": "721b5a2c",
   "metadata": {},
   "outputs": [
    {
     "data": {
      "text/plain": [
       "9"
      ]
     },
     "execution_count": 82,
     "metadata": {},
     "output_type": "execute_result"
    }
   ],
   "source": [
    "count4"
   ]
  },
  {
   "cell_type": "code",
   "execution_count": 83,
   "id": "f2b88ce4",
   "metadata": {},
   "outputs": [],
   "source": [
    "a =[1, 2,3,(1,1,5,6)]                    \n",
    "x = a.count(1)"
   ]
  },
  {
   "cell_type": "code",
   "execution_count": 84,
   "id": "6634901c",
   "metadata": {},
   "outputs": [
    {
     "data": {
      "text/plain": [
       "1"
      ]
     },
     "execution_count": 84,
     "metadata": {},
     "output_type": "execute_result"
    }
   ],
   "source": [
    "x"
   ]
  },
  {
   "cell_type": "code",
   "execution_count": 85,
   "id": "1faf105e",
   "metadata": {},
   "outputs": [],
   "source": [
    "y = a[3].count(1)"
   ]
  },
  {
   "cell_type": "code",
   "execution_count": 86,
   "id": "4aa58cfa",
   "metadata": {},
   "outputs": [
    {
     "data": {
      "text/plain": [
       "2"
      ]
     },
     "execution_count": 86,
     "metadata": {},
     "output_type": "execute_result"
    }
   ],
   "source": [
    "y"
   ]
  },
  {
   "cell_type": "code",
   "execution_count": 89,
   "id": "3d234e40",
   "metadata": {},
   "outputs": [],
   "source": [
    "x = a.count(1)\n",
    "y = a[3].count(1)\n",
    "z = x + y"
   ]
  },
  {
   "cell_type": "code",
   "execution_count": 90,
   "id": "65de31cf",
   "metadata": {
    "scrolled": true
   },
   "outputs": [
    {
     "data": {
      "text/plain": [
       "3"
      ]
     },
     "execution_count": 90,
     "metadata": {},
     "output_type": "execute_result"
    }
   ],
   "source": [
    "z"
   ]
  },
  {
   "cell_type": "markdown",
   "id": "63ee5549",
   "metadata": {},
   "source": [
    "### copy()\tReturns a copy of the list"
   ]
  },
  {
   "cell_type": "code",
   "execution_count": 91,
   "id": "9557eea2",
   "metadata": {},
   "outputs": [],
   "source": [
    "fruits = ['apple', 'banana', 'cherry', 'orange']\n",
    "\n",
    "x = fruits.copy()"
   ]
  },
  {
   "cell_type": "code",
   "execution_count": 92,
   "id": "0f73d200",
   "metadata": {},
   "outputs": [
    {
     "data": {
      "text/plain": [
       "['apple', 'banana', 'cherry', 'orange']"
      ]
     },
     "execution_count": 92,
     "metadata": {},
     "output_type": "execute_result"
    }
   ],
   "source": [
    "x "
   ]
  },
  {
   "cell_type": "code",
   "execution_count": 93,
   "id": "92b01155",
   "metadata": {},
   "outputs": [],
   "source": [
    "fruits = ['apple', 'banana', 'cherry']\n",
    "\n",
    "fruits.reverse()"
   ]
  },
  {
   "cell_type": "code",
   "execution_count": 94,
   "id": "dd337b66",
   "metadata": {
    "scrolled": true
   },
   "outputs": [
    {
     "data": {
      "text/plain": [
       "['cherry', 'banana', 'apple']"
      ]
     },
     "execution_count": 94,
     "metadata": {},
     "output_type": "execute_result"
    }
   ],
   "source": [
    "fruits"
   ]
  },
  {
   "cell_type": "markdown",
   "id": "cd907268",
   "metadata": {},
   "source": [
    "## reverse()\tReverses the order of the list"
   ]
  },
  {
   "cell_type": "code",
   "execution_count": 95,
   "id": "7b25b666",
   "metadata": {},
   "outputs": [],
   "source": [
    "li = [1,2,3,4,5,6]\n",
    "li.reverse()"
   ]
  },
  {
   "cell_type": "code",
   "execution_count": 96,
   "id": "bcdaacfe",
   "metadata": {},
   "outputs": [
    {
     "data": {
      "text/plain": [
       "[6, 5, 4, 3, 2, 1]"
      ]
     },
     "execution_count": 96,
     "metadata": {},
     "output_type": "execute_result"
    }
   ],
   "source": [
    "li"
   ]
  },
  {
   "cell_type": "code",
   "execution_count": 97,
   "id": "52ac8cd8",
   "metadata": {},
   "outputs": [
    {
     "data": {
      "text/plain": [
       "99"
      ]
     },
     "execution_count": 97,
     "metadata": {},
     "output_type": "execute_result"
    }
   ],
   "source": [
    "ord('c')"
   ]
  },
  {
   "cell_type": "code",
   "execution_count": 98,
   "id": "96aa5ad0",
   "metadata": {},
   "outputs": [
    {
     "data": {
      "text/plain": [
       "67"
      ]
     },
     "execution_count": 98,
     "metadata": {},
     "output_type": "execute_result"
    }
   ],
   "source": [
    "ord('C')"
   ]
  },
  {
   "cell_type": "code",
   "execution_count": 101,
   "id": "ebcf12bc",
   "metadata": {},
   "outputs": [],
   "source": [
    "li=[2,1,9,4,7,8]\n",
    "li.reverse()"
   ]
  },
  {
   "cell_type": "code",
   "execution_count": 103,
   "id": "6cb9e85a",
   "metadata": {
    "scrolled": true
   },
   "outputs": [
    {
     "data": {
      "text/plain": [
       "[8, 7, 4, 9, 1, 2]"
      ]
     },
     "execution_count": 103,
     "metadata": {},
     "output_type": "execute_result"
    }
   ],
   "source": [
    "li"
   ]
  },
  {
   "cell_type": "markdown",
   "id": "b931ead9",
   "metadata": {},
   "source": [
    "## sort()\tSorts the list"
   ]
  },
  {
   "cell_type": "markdown",
   "id": "1364c201",
   "metadata": {},
   "source": [
    "### Definition and Usage\n",
    "The sort() method sorts the list ascending by default.\n",
    "\n",
    "You can also make a function to decide the sorting criteria(s).\n",
    "\n",
    "Syntax\n",
    "\n",
    "    list.sort(reverse=True|False, key=myFunc)\n",
    "    \n",
    "reverse\tOptional. `reverse=True` will sort the list descending. `Default is reverse=False`\n",
    "\n",
    "\n",
    "key\tOptional. **A function to specify the sorting criteria(s)**"
   ]
  },
  {
   "cell_type": "code",
   "execution_count": 106,
   "id": "4e12f0af",
   "metadata": {},
   "outputs": [],
   "source": [
    "fruits = ['cherry','banana','apple',]\n",
    "\n",
    "fruits.sort()"
   ]
  },
  {
   "cell_type": "code",
   "execution_count": 107,
   "id": "c5ce22ef",
   "metadata": {},
   "outputs": [
    {
     "data": {
      "text/plain": [
       "['apple', 'banana', 'cherry']"
      ]
     },
     "execution_count": 107,
     "metadata": {},
     "output_type": "execute_result"
    }
   ],
   "source": [
    "fruits"
   ]
  },
  {
   "cell_type": "code",
   "execution_count": 108,
   "id": "5e7e92ab",
   "metadata": {},
   "outputs": [],
   "source": [
    "fruits = ['cherry','banana','apple','aaple']\n",
    "\n",
    "fruits.sort()"
   ]
  },
  {
   "cell_type": "code",
   "execution_count": 109,
   "id": "f4f04a23",
   "metadata": {},
   "outputs": [
    {
     "data": {
      "text/plain": [
       "['aaple', 'apple', 'banana', 'cherry']"
      ]
     },
     "execution_count": 109,
     "metadata": {},
     "output_type": "execute_result"
    }
   ],
   "source": [
    "fruits"
   ]
  },
  {
   "cell_type": "code",
   "execution_count": 110,
   "id": "31d4f7ce",
   "metadata": {
    "scrolled": true
   },
   "outputs": [
    {
     "data": {
      "text/plain": [
       "[1, 2, 2, 3, 4, 4, 5, 6, 7]"
      ]
     },
     "execution_count": 110,
     "metadata": {},
     "output_type": "execute_result"
    }
   ],
   "source": [
    "li = [4,5,6,7,2,1,2,3,4]\n",
    "li.sort()\n",
    "li"
   ]
  },
  {
   "cell_type": "code",
   "execution_count": 112,
   "id": "c5447c1c",
   "metadata": {},
   "outputs": [
    {
     "data": {
      "text/plain": [
       "[7, 6, 5, 4, 4, 3, 2, 2, 1]"
      ]
     },
     "execution_count": 112,
     "metadata": {},
     "output_type": "execute_result"
    }
   ],
   "source": [
    "li = [4,5,6,7,2,1,2,3,4]\n",
    "li.sort(reverse=True)\n",
    "li\n"
   ]
  },
  {
   "cell_type": "code",
   "execution_count": 113,
   "id": "1d9327fa",
   "metadata": {},
   "outputs": [],
   "source": [
    "fruits = ['apple', 'banana', 'cherry', 'orange']"
   ]
  },
  {
   "cell_type": "code",
   "execution_count": 115,
   "id": "31de93fb",
   "metadata": {},
   "outputs": [
    {
     "data": {
      "text/plain": [
       "4"
      ]
     },
     "execution_count": 115,
     "metadata": {},
     "output_type": "execute_result"
    }
   ],
   "source": [
    "len(fruits)"
   ]
  },
  {
   "cell_type": "code",
   "execution_count": 116,
   "id": "321a762a",
   "metadata": {},
   "outputs": [
    {
     "name": "stdout",
     "output_type": "stream",
     "text": [
      "apple\n",
      "banana\n",
      "cherry\n",
      "orange\n"
     ]
    }
   ],
   "source": [
    "for ele in range(0, len(fruits) , 1):\n",
    "    print(fruits[ele])"
   ]
  },
  {
   "cell_type": "code",
   "execution_count": 117,
   "id": "570ed46d",
   "metadata": {},
   "outputs": [
    {
     "name": "stdout",
     "output_type": "stream",
     "text": [
      "apple\n",
      "banana\n",
      "cherry\n",
      "orange\n"
     ]
    }
   ],
   "source": [
    "for ele in fruits:\n",
    "    print(ele)"
   ]
  },
  {
   "cell_type": "code",
   "execution_count": 118,
   "id": "48887e79",
   "metadata": {},
   "outputs": [],
   "source": [
    "fruits = ['apple', 'banana', 'cherry', 'orange']"
   ]
  },
  {
   "cell_type": "code",
   "execution_count": 119,
   "id": "10431375",
   "metadata": {},
   "outputs": [
    {
     "name": "stdout",
     "output_type": "stream",
     "text": [
      "banana\n",
      "cherry\n"
     ]
    }
   ],
   "source": [
    "for ele in fruits[1:3]:\n",
    "    print(ele)"
   ]
  },
  {
   "cell_type": "code",
   "execution_count": 120,
   "id": "66969b5d",
   "metadata": {},
   "outputs": [
    {
     "name": "stdout",
     "output_type": "stream",
     "text": [
      "banana\n",
      "cherry\n"
     ]
    }
   ],
   "source": [
    "for ele in range(1,3):\n",
    "    print(fruits[ele])\n",
    "    "
   ]
  },
  {
   "cell_type": "code",
   "execution_count": null,
   "id": "64de99ba",
   "metadata": {},
   "outputs": [],
   "source": []
  }
 ],
 "metadata": {
  "kernelspec": {
   "display_name": "Python 3 (ipykernel)",
   "language": "python",
   "name": "python3"
  },
  "language_info": {
   "codemirror_mode": {
    "name": "ipython",
    "version": 3
   },
   "file_extension": ".py",
   "mimetype": "text/x-python",
   "name": "python",
   "nbconvert_exporter": "python",
   "pygments_lexer": "ipython3",
   "version": "3.9.12"
  }
 },
 "nbformat": 4,
 "nbformat_minor": 5
}
